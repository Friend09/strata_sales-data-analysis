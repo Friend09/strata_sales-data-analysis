{
 "cells": [
  {
   "cell_type": "markdown",
   "metadata": {
    "collapsed": false
   },
   "source": [
    "# Sales Data Analysis"
   ]
  },
  {
   "cell_type": "markdown",
   "metadata": {
    "collapsed": false
   },
   "source": [
    "## Ingest"
   ]
  },
  {
   "cell_type": "code",
   "execution_count": 43,
   "metadata": {
    "ExecuteTime": {
     "end_time": "2023-11-09T10:33:19.434862Z",
     "start_time": "2023-11-09T10:33:19.429540Z"
    },
    "collapsed": false
   },
   "outputs": [
    {
     "name": "stdout",
     "output_type": "stream",
     "text": [
      "hello world\n"
     ]
    }
   ],
   "source": [
    "import os\n",
    "import pandas as pd\n",
    "import sys\n",
    "import matplotlib.pyplot as plt\n",
    "print(\"hello world\")\n"
   ]
  },
  {
   "cell_type": "code",
   "execution_count": 44,
   "metadata": {
    "ExecuteTime": {
     "end_time": "2023-11-09T10:20:21.445369Z",
     "start_time": "2023-11-09T10:20:21.437897Z"
    },
    "collapsed": false
   },
   "outputs": [
    {
     "name": "stdout",
     "output_type": "stream",
     "text": [
      "['sales_week_starting_2013-01-07.csv', 'sales_week_starting_2012-12-24.csv', 'sales_week_starting_2012-12-31.csv', 'sales_week_starting_2013-04-22.csv', 'sales_week_starting_2012-10-08.csv']\n"
     ]
    }
   ],
   "source": [
    "# get data for all files with their paths\n",
    "\n",
    "directory_path = f\"{os.getcwd()}/data\"\n",
    "files = []\n",
    "\n",
    "for filename in os.listdir(directory_path):\n",
    "    if os.path.isfile(os.path.join(directory_path, filename)):\n",
    "        files.append(filename)\n",
    "\n",
    "print(files[:5])\n"
   ]
  },
  {
   "cell_type": "code",
   "execution_count": 45,
   "metadata": {
    "ExecuteTime": {
     "end_time": "2023-11-09T10:20:21.602859Z",
     "start_time": "2023-11-09T10:20:21.444123Z"
    }
   },
   "outputs": [],
   "source": [
    "# go through all csv files and create a single dataframe\n",
    "df = pd.DataFrame()\n",
    "\n",
    "for file in files:\n",
    "    temp_df = pd.read_csv(f\"data/{file}\")\n",
    "\n",
    "    df = pd.concat([temp_df, df], ignore_index=True)\n"
   ]
  },
  {
   "cell_type": "code",
   "execution_count": 46,
   "metadata": {
    "ExecuteTime": {
     "end_time": "2023-11-09T10:20:21.609291Z",
     "start_time": "2023-11-09T10:20:21.604542Z"
    }
   },
   "outputs": [
    {
     "data": {
      "text/html": [
       "<div>\n",
       "<style scoped>\n",
       "    .dataframe tbody tr th:only-of-type {\n",
       "        vertical-align: middle;\n",
       "    }\n",
       "\n",
       "    .dataframe tbody tr th {\n",
       "        vertical-align: top;\n",
       "    }\n",
       "\n",
       "    .dataframe thead th {\n",
       "        text-align: right;\n",
       "    }\n",
       "</style>\n",
       "<table border=\"1\" class=\"dataframe\">\n",
       "  <thead>\n",
       "    <tr style=\"text-align: right;\">\n",
       "      <th></th>\n",
       "      <th>sale_time</th>\n",
       "      <th>purchaser_gender</th>\n",
       "    </tr>\n",
       "  </thead>\n",
       "  <tbody>\n",
       "    <tr>\n",
       "      <th>0</th>\n",
       "      <td>2013-08-12 01:10:47</td>\n",
       "      <td>male</td>\n",
       "    </tr>\n",
       "    <tr>\n",
       "      <th>1</th>\n",
       "      <td>2013-08-12 02:07:00</td>\n",
       "      <td>female</td>\n",
       "    </tr>\n",
       "    <tr>\n",
       "      <th>2</th>\n",
       "      <td>2013-08-12 02:09:54</td>\n",
       "      <td>male</td>\n",
       "    </tr>\n",
       "    <tr>\n",
       "      <th>3</th>\n",
       "      <td>2013-08-12 02:16:23</td>\n",
       "      <td>male</td>\n",
       "    </tr>\n",
       "    <tr>\n",
       "      <th>4</th>\n",
       "      <td>2013-08-12 02:23:33</td>\n",
       "      <td>female</td>\n",
       "    </tr>\n",
       "  </tbody>\n",
       "</table>\n",
       "</div>"
      ],
      "text/plain": [
       "             sale_time purchaser_gender\n",
       "0  2013-08-12 01:10:47             male\n",
       "1  2013-08-12 02:07:00           female\n",
       "2  2013-08-12 02:09:54             male\n",
       "3  2013-08-12 02:16:23             male\n",
       "4  2013-08-12 02:23:33           female"
      ]
     },
     "execution_count": 46,
     "metadata": {},
     "output_type": "execute_result"
    }
   ],
   "source": [
    "df.head()\n"
   ]
  },
  {
   "cell_type": "markdown",
   "metadata": {},
   "source": [
    "## EDA"
   ]
  },
  {
   "cell_type": "markdown",
   "metadata": {
    "collapsed": false
   },
   "source": [
    "### get descriptive stats about the data"
   ]
  },
  {
   "cell_type": "code",
   "execution_count": 47,
   "metadata": {
    "ExecuteTime": {
     "end_time": "2023-11-09T10:22:59.980344Z",
     "start_time": "2023-11-09T10:22:59.974584Z"
    },
    "collapsed": false
   },
   "outputs": [
    {
     "data": {
      "text/html": [
       "<div>\n",
       "<style scoped>\n",
       "    .dataframe tbody tr th:only-of-type {\n",
       "        vertical-align: middle;\n",
       "    }\n",
       "\n",
       "    .dataframe tbody tr th {\n",
       "        vertical-align: top;\n",
       "    }\n",
       "\n",
       "    .dataframe thead th {\n",
       "        text-align: right;\n",
       "    }\n",
       "</style>\n",
       "<table border=\"1\" class=\"dataframe\">\n",
       "  <thead>\n",
       "    <tr style=\"text-align: right;\">\n",
       "      <th></th>\n",
       "      <th>sale_time</th>\n",
       "      <th>purchaser_gender</th>\n",
       "    </tr>\n",
       "  </thead>\n",
       "  <tbody>\n",
       "    <tr>\n",
       "      <th>0</th>\n",
       "      <td>2013-08-12 01:10:47</td>\n",
       "      <td>male</td>\n",
       "    </tr>\n",
       "    <tr>\n",
       "      <th>1</th>\n",
       "      <td>2013-08-12 02:07:00</td>\n",
       "      <td>female</td>\n",
       "    </tr>\n",
       "    <tr>\n",
       "      <th>2</th>\n",
       "      <td>2013-08-12 02:09:54</td>\n",
       "      <td>male</td>\n",
       "    </tr>\n",
       "    <tr>\n",
       "      <th>3</th>\n",
       "      <td>2013-08-12 02:16:23</td>\n",
       "      <td>male</td>\n",
       "    </tr>\n",
       "    <tr>\n",
       "      <th>4</th>\n",
       "      <td>2013-08-12 02:23:33</td>\n",
       "      <td>female</td>\n",
       "    </tr>\n",
       "    <tr>\n",
       "      <th>...</th>\n",
       "      <td>...</td>\n",
       "      <td>...</td>\n",
       "    </tr>\n",
       "    <tr>\n",
       "      <th>204324</th>\n",
       "      <td>2013-01-13 22:23:42</td>\n",
       "      <td>female</td>\n",
       "    </tr>\n",
       "    <tr>\n",
       "      <th>204325</th>\n",
       "      <td>2013-01-13 22:24:26</td>\n",
       "      <td>female</td>\n",
       "    </tr>\n",
       "    <tr>\n",
       "      <th>204326</th>\n",
       "      <td>2013-01-13 22:29:54</td>\n",
       "      <td>female</td>\n",
       "    </tr>\n",
       "    <tr>\n",
       "      <th>204327</th>\n",
       "      <td>2013-01-13 22:56:41</td>\n",
       "      <td>female</td>\n",
       "    </tr>\n",
       "    <tr>\n",
       "      <th>204328</th>\n",
       "      <td>2013-01-13 23:55:19</td>\n",
       "      <td>female</td>\n",
       "    </tr>\n",
       "  </tbody>\n",
       "</table>\n",
       "<p>204329 rows × 2 columns</p>\n",
       "</div>"
      ],
      "text/plain": [
       "                  sale_time purchaser_gender\n",
       "0       2013-08-12 01:10:47             male\n",
       "1       2013-08-12 02:07:00           female\n",
       "2       2013-08-12 02:09:54             male\n",
       "3       2013-08-12 02:16:23             male\n",
       "4       2013-08-12 02:23:33           female\n",
       "...                     ...              ...\n",
       "204324  2013-01-13 22:23:42           female\n",
       "204325  2013-01-13 22:24:26           female\n",
       "204326  2013-01-13 22:29:54           female\n",
       "204327  2013-01-13 22:56:41           female\n",
       "204328  2013-01-13 23:55:19           female\n",
       "\n",
       "[204329 rows x 2 columns]"
      ]
     },
     "execution_count": 47,
     "metadata": {},
     "output_type": "execute_result"
    }
   ],
   "source": [
    "df\n"
   ]
  },
  {
   "cell_type": "markdown",
   "metadata": {},
   "source": [
    "### Plot daily sales for all 50 weeks.\n"
   ]
  },
  {
   "cell_type": "code",
   "execution_count": 48,
   "metadata": {
    "ExecuteTime": {
     "end_time": "2023-11-09T10:23:19.555556Z",
     "start_time": "2023-11-09T10:23:19.551416Z"
    },
    "collapsed": false
   },
   "outputs": [
    {
     "data": {
      "text/html": [
       "<div>\n",
       "<style scoped>\n",
       "    .dataframe tbody tr th:only-of-type {\n",
       "        vertical-align: middle;\n",
       "    }\n",
       "\n",
       "    .dataframe tbody tr th {\n",
       "        vertical-align: top;\n",
       "    }\n",
       "\n",
       "    .dataframe thead th {\n",
       "        text-align: right;\n",
       "    }\n",
       "</style>\n",
       "<table border=\"1\" class=\"dataframe\">\n",
       "  <thead>\n",
       "    <tr style=\"text-align: right;\">\n",
       "      <th></th>\n",
       "      <th>sale_time</th>\n",
       "      <th>purchaser_gender</th>\n",
       "    </tr>\n",
       "  </thead>\n",
       "  <tbody>\n",
       "    <tr>\n",
       "      <th>0</th>\n",
       "      <td>2013-08-12 01:10:47</td>\n",
       "      <td>male</td>\n",
       "    </tr>\n",
       "    <tr>\n",
       "      <th>1</th>\n",
       "      <td>2013-08-12 02:07:00</td>\n",
       "      <td>female</td>\n",
       "    </tr>\n",
       "    <tr>\n",
       "      <th>2</th>\n",
       "      <td>2013-08-12 02:09:54</td>\n",
       "      <td>male</td>\n",
       "    </tr>\n",
       "    <tr>\n",
       "      <th>3</th>\n",
       "      <td>2013-08-12 02:16:23</td>\n",
       "      <td>male</td>\n",
       "    </tr>\n",
       "    <tr>\n",
       "      <th>4</th>\n",
       "      <td>2013-08-12 02:23:33</td>\n",
       "      <td>female</td>\n",
       "    </tr>\n",
       "  </tbody>\n",
       "</table>\n",
       "</div>"
      ],
      "text/plain": [
       "            sale_time purchaser_gender\n",
       "0 2013-08-12 01:10:47             male\n",
       "1 2013-08-12 02:07:00           female\n",
       "2 2013-08-12 02:09:54             male\n",
       "3 2013-08-12 02:16:23             male\n",
       "4 2013-08-12 02:23:33           female"
      ]
     },
     "execution_count": 48,
     "metadata": {},
     "output_type": "execute_result"
    }
   ],
   "source": [
    "# first convert the date column to proper datetime format\n",
    "df[\"sale_time\"] = pd.to_datetime(df[\"sale_time\"])\n",
    "df.head()\n"
   ]
  },
  {
   "cell_type": "code",
   "execution_count": 49,
   "metadata": {
    "ExecuteTime": {
     "end_time": "2023-11-09T10:23:23.276660Z",
     "start_time": "2023-11-09T10:23:23.262755Z"
    },
    "collapsed": false
   },
   "outputs": [
    {
     "data": {
      "text/html": [
       "<div>\n",
       "<style scoped>\n",
       "    .dataframe tbody tr th:only-of-type {\n",
       "        vertical-align: middle;\n",
       "    }\n",
       "\n",
       "    .dataframe tbody tr th {\n",
       "        vertical-align: top;\n",
       "    }\n",
       "\n",
       "    .dataframe thead th {\n",
       "        text-align: right;\n",
       "    }\n",
       "</style>\n",
       "<table border=\"1\" class=\"dataframe\">\n",
       "  <thead>\n",
       "    <tr style=\"text-align: right;\">\n",
       "      <th></th>\n",
       "      <th>sale_time</th>\n",
       "      <th>purchaser_gender</th>\n",
       "      <th>year</th>\n",
       "      <th>week</th>\n",
       "      <th>day</th>\n",
       "    </tr>\n",
       "  </thead>\n",
       "  <tbody>\n",
       "    <tr>\n",
       "      <th>0</th>\n",
       "      <td>2013-08-12 01:10:47</td>\n",
       "      <td>male</td>\n",
       "      <td>2013</td>\n",
       "      <td>33</td>\n",
       "      <td>1</td>\n",
       "    </tr>\n",
       "    <tr>\n",
       "      <th>1</th>\n",
       "      <td>2013-08-12 02:07:00</td>\n",
       "      <td>female</td>\n",
       "      <td>2013</td>\n",
       "      <td>33</td>\n",
       "      <td>1</td>\n",
       "    </tr>\n",
       "    <tr>\n",
       "      <th>2</th>\n",
       "      <td>2013-08-12 02:09:54</td>\n",
       "      <td>male</td>\n",
       "      <td>2013</td>\n",
       "      <td>33</td>\n",
       "      <td>1</td>\n",
       "    </tr>\n",
       "    <tr>\n",
       "      <th>3</th>\n",
       "      <td>2013-08-12 02:16:23</td>\n",
       "      <td>male</td>\n",
       "      <td>2013</td>\n",
       "      <td>33</td>\n",
       "      <td>1</td>\n",
       "    </tr>\n",
       "    <tr>\n",
       "      <th>4</th>\n",
       "      <td>2013-08-12 02:23:33</td>\n",
       "      <td>female</td>\n",
       "      <td>2013</td>\n",
       "      <td>33</td>\n",
       "      <td>1</td>\n",
       "    </tr>\n",
       "  </tbody>\n",
       "</table>\n",
       "</div>"
      ],
      "text/plain": [
       "            sale_time purchaser_gender  year  week  day\n",
       "0 2013-08-12 01:10:47             male  2013    33    1\n",
       "1 2013-08-12 02:07:00           female  2013    33    1\n",
       "2 2013-08-12 02:09:54             male  2013    33    1\n",
       "3 2013-08-12 02:16:23             male  2013    33    1\n",
       "4 2013-08-12 02:23:33           female  2013    33    1"
      ]
     },
     "execution_count": 49,
     "metadata": {},
     "output_type": "execute_result"
    }
   ],
   "source": [
    "# extract the year, week and day into separate columns\n",
    "df[[\"year\", \"week\", \"day\"]] = df[\"sale_time\"].dt.isocalendar()\n",
    "df.head()\n"
   ]
  },
  {
   "cell_type": "code",
   "execution_count": 52,
   "metadata": {
    "ExecuteTime": {
     "end_time": "2023-11-09T10:17:15.367043Z",
     "start_time": "2023-11-09T10:17:15.352976Z"
    },
    "collapsed": false
   },
   "outputs": [
    {
     "data": {
      "text/html": [
       "<div>\n",
       "<style scoped>\n",
       "    .dataframe tbody tr th:only-of-type {\n",
       "        vertical-align: middle;\n",
       "    }\n",
       "\n",
       "    .dataframe tbody tr th {\n",
       "        vertical-align: top;\n",
       "    }\n",
       "\n",
       "    .dataframe thead th {\n",
       "        text-align: right;\n",
       "    }\n",
       "</style>\n",
       "<table border=\"1\" class=\"dataframe\">\n",
       "  <thead>\n",
       "    <tr style=\"text-align: right;\">\n",
       "      <th></th>\n",
       "      <th>sale_time</th>\n",
       "      <th>purchaser_gender</th>\n",
       "      <th>year</th>\n",
       "      <th>week</th>\n",
       "      <th>day</th>\n",
       "      <th>date</th>\n",
       "    </tr>\n",
       "  </thead>\n",
       "  <tbody>\n",
       "    <tr>\n",
       "      <th>0</th>\n",
       "      <td>2013-08-12 01:10:47</td>\n",
       "      <td>male</td>\n",
       "      <td>2013</td>\n",
       "      <td>33</td>\n",
       "      <td>1</td>\n",
       "      <td>2013-08-12</td>\n",
       "    </tr>\n",
       "    <tr>\n",
       "      <th>1</th>\n",
       "      <td>2013-08-12 02:07:00</td>\n",
       "      <td>female</td>\n",
       "      <td>2013</td>\n",
       "      <td>33</td>\n",
       "      <td>1</td>\n",
       "      <td>2013-08-12</td>\n",
       "    </tr>\n",
       "    <tr>\n",
       "      <th>2</th>\n",
       "      <td>2013-08-12 02:09:54</td>\n",
       "      <td>male</td>\n",
       "      <td>2013</td>\n",
       "      <td>33</td>\n",
       "      <td>1</td>\n",
       "      <td>2013-08-12</td>\n",
       "    </tr>\n",
       "    <tr>\n",
       "      <th>3</th>\n",
       "      <td>2013-08-12 02:16:23</td>\n",
       "      <td>male</td>\n",
       "      <td>2013</td>\n",
       "      <td>33</td>\n",
       "      <td>1</td>\n",
       "      <td>2013-08-12</td>\n",
       "    </tr>\n",
       "    <tr>\n",
       "      <th>4</th>\n",
       "      <td>2013-08-12 02:23:33</td>\n",
       "      <td>female</td>\n",
       "      <td>2013</td>\n",
       "      <td>33</td>\n",
       "      <td>1</td>\n",
       "      <td>2013-08-12</td>\n",
       "    </tr>\n",
       "  </tbody>\n",
       "</table>\n",
       "</div>"
      ],
      "text/plain": [
       "            sale_time purchaser_gender  year  week  day       date\n",
       "0 2013-08-12 01:10:47             male  2013    33    1 2013-08-12\n",
       "1 2013-08-12 02:07:00           female  2013    33    1 2013-08-12\n",
       "2 2013-08-12 02:09:54             male  2013    33    1 2013-08-12\n",
       "3 2013-08-12 02:16:23             male  2013    33    1 2013-08-12\n",
       "4 2013-08-12 02:23:33           female  2013    33    1 2013-08-12"
      ]
     },
     "execution_count": 52,
     "metadata": {},
     "output_type": "execute_result"
    }
   ],
   "source": [
    "# get date column\n",
    "df[\"date\"] = pd.to_datetime(df[\"sale_time\"].dt.date)\n",
    "df.head()\n"
   ]
  },
  {
   "cell_type": "code",
   "execution_count": 53,
   "metadata": {},
   "outputs": [
    {
     "data": {
      "text/plain": [
       "week  date      \n",
       "1     2012-12-31    538\n",
       "      2013-01-01    458\n",
       "      2013-01-02    532\n",
       "      2013-01-03    510\n",
       "      2013-01-04    536\n",
       "      2013-01-05    497\n",
       "      2013-01-06    497\n",
       "2     2013-01-07    550\n",
       "      2013-01-08    494\n",
       "      2013-01-09    445\n",
       "      2013-01-10    536\n",
       "      2013-01-11    409\n",
       "      2013-01-12    469\n",
       "      2013-01-13    472\n",
       "3     2013-01-14    458\n",
       "      2013-01-15    517\n",
       "      2013-01-16    521\n",
       "      2013-01-17    522\n",
       "      2013-01-18    519\n",
       "      2013-01-19    547\n",
       "      2013-01-20    474\n",
       "4     2013-01-21    521\n",
       "      2013-01-22    503\n",
       "      2013-01-23    491\n",
       "      2013-01-24    514\n",
       "      2013-01-25    504\n",
       "      2013-01-26    484\n",
       "      2013-01-27    445\n",
       "5     2013-01-28    453\n",
       "      2013-01-29    533\n",
       "Name: count, dtype: int64"
      ]
     },
     "execution_count": 53,
     "metadata": {},
     "output_type": "execute_result"
    }
   ],
   "source": [
    "df[[\"week\", \"date\"]].value_counts().sort_index(level=0).head(30)\n"
   ]
  },
  {
   "cell_type": "code",
   "execution_count": 63,
   "metadata": {
    "collapsed": false
   },
   "outputs": [
    {
     "data": {
      "text/plain": [
       "<Axes: xlabel='date'>"
      ]
     },
     "execution_count": 63,
     "metadata": {},
     "output_type": "execute_result"
    },
    {
     "data": {
      "image/png": "[encoded data removed]",
      "text/plain": [
       "<Figure size 640x480 with 1 Axes>"
      ]
     },
     "metadata": {},
     "output_type": "display_data"
    }
   ],
   "source": [
    "# plot sales for all days\n",
    "df[\"date\"] = df[\"sale_time\"].dt.date\n",
    "(\n",
    "    df.sort_values(\"sale_time\", ascending=True).groupby(\"date\").size().plot()\n",
    ")\n"
   ]
  },
  {
   "cell_type": "markdown",
   "metadata": {},
   "source": [
    "### It looks like there has been a sudden change in daily sales. What date did it occur?\n"
   ]
  },
  {
   "cell_type": "code",
   "execution_count": 65,
   "metadata": {},
   "outputs": [
    {
     "data": {
      "text/html": [
       "<div>\n",
       "<style scoped>\n",
       "    .dataframe tbody tr th:only-of-type {\n",
       "        vertical-align: middle;\n",
       "    }\n",
       "\n",
       "    .dataframe tbody tr th {\n",
       "        vertical-align: top;\n",
       "    }\n",
       "\n",
       "    .dataframe thead th {\n",
       "        text-align: right;\n",
       "    }\n",
       "</style>\n",
       "<table border=\"1\" class=\"dataframe\">\n",
       "  <thead>\n",
       "    <tr style=\"text-align: right;\">\n",
       "      <th></th>\n",
       "      <th>sale_time</th>\n",
       "      <th>purchaser_gender</th>\n",
       "      <th>year</th>\n",
       "      <th>week</th>\n",
       "      <th>day</th>\n",
       "      <th>date</th>\n",
       "    </tr>\n",
       "  </thead>\n",
       "  <tbody>\n",
       "    <tr>\n",
       "      <th>0</th>\n",
       "      <td>2013-08-12 01:10:47</td>\n",
       "      <td>male</td>\n",
       "      <td>2013</td>\n",
       "      <td>33</td>\n",
       "      <td>1</td>\n",
       "      <td>2013-08-12</td>\n",
       "    </tr>\n",
       "    <tr>\n",
       "      <th>1</th>\n",
       "      <td>2013-08-12 02:07:00</td>\n",
       "      <td>female</td>\n",
       "      <td>2013</td>\n",
       "      <td>33</td>\n",
       "      <td>1</td>\n",
       "      <td>2013-08-12</td>\n",
       "    </tr>\n",
       "    <tr>\n",
       "      <th>2</th>\n",
       "      <td>2013-08-12 02:09:54</td>\n",
       "      <td>male</td>\n",
       "      <td>2013</td>\n",
       "      <td>33</td>\n",
       "      <td>1</td>\n",
       "      <td>2013-08-12</td>\n",
       "    </tr>\n",
       "    <tr>\n",
       "      <th>3</th>\n",
       "      <td>2013-08-12 02:16:23</td>\n",
       "      <td>male</td>\n",
       "      <td>2013</td>\n",
       "      <td>33</td>\n",
       "      <td>1</td>\n",
       "      <td>2013-08-12</td>\n",
       "    </tr>\n",
       "    <tr>\n",
       "      <th>4</th>\n",
       "      <td>2013-08-12 02:23:33</td>\n",
       "      <td>female</td>\n",
       "      <td>2013</td>\n",
       "      <td>33</td>\n",
       "      <td>1</td>\n",
       "      <td>2013-08-12</td>\n",
       "    </tr>\n",
       "  </tbody>\n",
       "</table>\n",
       "</div>"
      ],
      "text/plain": [
       "            sale_time purchaser_gender  year  week  day        date\n",
       "0 2013-08-12 01:10:47             male  2013    33    1  2013-08-12\n",
       "1 2013-08-12 02:07:00           female  2013    33    1  2013-08-12\n",
       "2 2013-08-12 02:09:54             male  2013    33    1  2013-08-12\n",
       "3 2013-08-12 02:16:23             male  2013    33    1  2013-08-12\n",
       "4 2013-08-12 02:23:33           female  2013    33    1  2013-08-12"
      ]
     },
     "execution_count": 65,
     "metadata": {},
     "output_type": "execute_result"
    }
   ],
   "source": [
    "df.head()\n"
   ]
  },
  {
   "cell_type": "code",
   "execution_count": 82,
   "metadata": {},
   "outputs": [
    {
     "data": {
      "text/plain": [
       "<Axes: xlabel='date'>"
      ]
     },
     "execution_count": 82,
     "metadata": {},
     "output_type": "execute_result"
    },
    {
     "data": {
      "image/png": "[encoded data removed]",
      "text/plain": [
       "<Figure size 640x480 with 1 Axes>"
      ]
     },
     "metadata": {},
     "output_type": "display_data"
    }
   ],
   "source": [
    "# from the plot above we can see that there is a change on 2013-05, so get data from 03-07\n",
    "mask1 = pd.to_datetime(df[\"date\"]).between(\"2013-04-22\", \"2013-05-03\")\n",
    "df[\"date\"] = df[\"sale_time\"].dt.date\n",
    "(\n",
    "    df[mask1].sort_values(\"sale_time\", ascending=True).groupby(\n",
    "        \"date\").size().plot()\n",
    ")\n",
    "\n",
    "# the\n"
   ]
  },
  {
   "cell_type": "code",
   "execution_count": null,
   "metadata": {},
   "outputs": [],
   "source": [
    "\n"
   ]
  },
  {
   "cell_type": "markdown",
   "metadata": {},
   "source": [
    "### Is the change in daily sales at the date you selected statistically significant? If so, what is the p-value?\n"
   ]
  },
  {
   "cell_type": "code",
   "execution_count": null,
   "metadata": {},
   "outputs": [],
   "source": []
  },
  {
   "cell_type": "code",
   "execution_count": null,
   "metadata": {},
   "outputs": [],
   "source": []
  },
  {
   "cell_type": "markdown",
   "metadata": {},
   "source": [
    "### Does the data suggest that the change in daily sales is due to a shift in the proportion of male-vs-female customers? Please use plots to support your answer (a rigorous statistical analysis is not necessary).\n"
   ]
  },
  {
   "cell_type": "markdown",
   "metadata": {},
   "source": [
    "### Assume a given day is divided into four dayparts:\n"
   ]
  },
  {
   "cell_type": "markdown",
   "metadata": {},
   "source": [
    "night (12:00AM - 6:00AM),\n",
    "morning (6:00AM - 12:00PM),\n",
    "afternoon (12:00PM - 6:00PM),\n",
    "evening (6:00PM - 12:00AM).\n",
    "### What is the percentage of sales in each daypart over all 50 weeks?"
   ]
  },
  {
   "cell_type": "markdown",
   "metadata": {},
   "source": []
  },
  {
   "cell_type": "code",
   "execution_count": null,
   "metadata": {
    "ExecuteTime": {
     "end_time": "2023-11-07T10:23:25.021624Z",
     "start_time": "2023-11-07T10:23:25.016574Z"
    },
    "collapsed": false
   },
   "outputs": [],
   "source": []
  },
  {
   "cell_type": "code",
   "execution_count": null,
   "metadata": {
    "ExecuteTime": {
     "end_time": "2023-11-07T10:23:25.228589Z",
     "start_time": "2023-11-07T10:23:25.222776Z"
    },
    "collapsed": false
   },
   "outputs": [],
   "source": []
  },
  {
   "cell_type": "markdown",
   "metadata": {},
   "source": []
  },
  {
   "cell_type": "code",
   "execution_count": null,
   "metadata": {
    "ExecuteTime": {
     "end_time": "2023-11-07T10:23:25.396109Z",
     "start_time": "2023-11-07T10:23:25.390895Z"
    },
    "collapsed": false
   },
   "outputs": [],
   "source": []
  },
  {
   "cell_type": "markdown",
   "metadata": {},
   "source": [
    "## Conclusion"
   ]
  },
  {
   "cell_type": "code",
   "execution_count": null,
   "metadata": {
    "collapsed": false
   },
   "outputs": [],
   "source": []
  }
 ],
 "metadata": {
  "kernelspec": {
   "display_name": "venv_ML",
   "language": "python",
   "name": "python3"
  },
  "language_info": {
   "codemirror_mode": {
    "name": "ipython",
    "version": 3
   },
   "file_extension": ".py",
   "mimetype": "text/x-python",
   "name": "python",
   "nbconvert_exporter": "python",
   "pygments_lexer": "ipython3",
   "version": "3.11.5"
  }
 },
 "nbformat": 4,
 "nbformat_minor": 2
}
